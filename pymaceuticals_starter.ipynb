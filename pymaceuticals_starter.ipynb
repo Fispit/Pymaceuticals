{
 "cells": [
  {
   "cell_type": "markdown",
   "metadata": {},
   "source": [
    "## Observations and Insights "
   ]
  },
  {
   "cell_type": "markdown",
   "metadata": {},
   "source": []
  },
  {
   "cell_type": "code",
   "execution_count": 9,
   "metadata": {},
   "outputs": [
    {
     "output_type": "execute_result",
     "data": {
      "text/plain": [
       "     Mouse ID  Timepoint  Tumor Volume (mm3)  Metastatic Sites Drug Regimen  \\\n",
       "0        b128          0           45.000000                 0    Capomulin   \n",
       "1        b128          5           45.651331                 0    Capomulin   \n",
       "2        b128         10           43.270852                 0    Capomulin   \n",
       "3        b128         15           43.784893                 0    Capomulin   \n",
       "4        b128         20           42.731552                 0    Capomulin   \n",
       "...       ...        ...                 ...               ...          ...   \n",
       "1888     m601         25           33.118756                 1    Capomulin   \n",
       "1889     m601         30           31.758275                 1    Capomulin   \n",
       "1890     m601         35           30.834357                 1    Capomulin   \n",
       "1891     m601         40           31.378045                 1    Capomulin   \n",
       "1892     m601         45           28.430964                 1    Capomulin   \n",
       "\n",
       "         Sex  Age_months  Weight (g)  \n",
       "0     Female           9          22  \n",
       "1     Female           9          22  \n",
       "2     Female           9          22  \n",
       "3     Female           9          22  \n",
       "4     Female           9          22  \n",
       "...      ...         ...         ...  \n",
       "1888    Male          22          17  \n",
       "1889    Male          22          17  \n",
       "1890    Male          22          17  \n",
       "1891    Male          22          17  \n",
       "1892    Male          22          17  \n",
       "\n",
       "[1893 rows x 8 columns]"
      ],
      "text/html": "<div>\n<style scoped>\n    .dataframe tbody tr th:only-of-type {\n        vertical-align: middle;\n    }\n\n    .dataframe tbody tr th {\n        vertical-align: top;\n    }\n\n    .dataframe thead th {\n        text-align: right;\n    }\n</style>\n<table border=\"1\" class=\"dataframe\">\n  <thead>\n    <tr style=\"text-align: right;\">\n      <th></th>\n      <th>Mouse ID</th>\n      <th>Timepoint</th>\n      <th>Tumor Volume (mm3)</th>\n      <th>Metastatic Sites</th>\n      <th>Drug Regimen</th>\n      <th>Sex</th>\n      <th>Age_months</th>\n      <th>Weight (g)</th>\n    </tr>\n  </thead>\n  <tbody>\n    <tr>\n      <th>0</th>\n      <td>b128</td>\n      <td>0</td>\n      <td>45.000000</td>\n      <td>0</td>\n      <td>Capomulin</td>\n      <td>Female</td>\n      <td>9</td>\n      <td>22</td>\n    </tr>\n    <tr>\n      <th>1</th>\n      <td>b128</td>\n      <td>5</td>\n      <td>45.651331</td>\n      <td>0</td>\n      <td>Capomulin</td>\n      <td>Female</td>\n      <td>9</td>\n      <td>22</td>\n    </tr>\n    <tr>\n      <th>2</th>\n      <td>b128</td>\n      <td>10</td>\n      <td>43.270852</td>\n      <td>0</td>\n      <td>Capomulin</td>\n      <td>Female</td>\n      <td>9</td>\n      <td>22</td>\n    </tr>\n    <tr>\n      <th>3</th>\n      <td>b128</td>\n      <td>15</td>\n      <td>43.784893</td>\n      <td>0</td>\n      <td>Capomulin</td>\n      <td>Female</td>\n      <td>9</td>\n      <td>22</td>\n    </tr>\n    <tr>\n      <th>4</th>\n      <td>b128</td>\n      <td>20</td>\n      <td>42.731552</td>\n      <td>0</td>\n      <td>Capomulin</td>\n      <td>Female</td>\n      <td>9</td>\n      <td>22</td>\n    </tr>\n    <tr>\n      <th>...</th>\n      <td>...</td>\n      <td>...</td>\n      <td>...</td>\n      <td>...</td>\n      <td>...</td>\n      <td>...</td>\n      <td>...</td>\n      <td>...</td>\n    </tr>\n    <tr>\n      <th>1888</th>\n      <td>m601</td>\n      <td>25</td>\n      <td>33.118756</td>\n      <td>1</td>\n      <td>Capomulin</td>\n      <td>Male</td>\n      <td>22</td>\n      <td>17</td>\n    </tr>\n    <tr>\n      <th>1889</th>\n      <td>m601</td>\n      <td>30</td>\n      <td>31.758275</td>\n      <td>1</td>\n      <td>Capomulin</td>\n      <td>Male</td>\n      <td>22</td>\n      <td>17</td>\n    </tr>\n    <tr>\n      <th>1890</th>\n      <td>m601</td>\n      <td>35</td>\n      <td>30.834357</td>\n      <td>1</td>\n      <td>Capomulin</td>\n      <td>Male</td>\n      <td>22</td>\n      <td>17</td>\n    </tr>\n    <tr>\n      <th>1891</th>\n      <td>m601</td>\n      <td>40</td>\n      <td>31.378045</td>\n      <td>1</td>\n      <td>Capomulin</td>\n      <td>Male</td>\n      <td>22</td>\n      <td>17</td>\n    </tr>\n    <tr>\n      <th>1892</th>\n      <td>m601</td>\n      <td>45</td>\n      <td>28.430964</td>\n      <td>1</td>\n      <td>Capomulin</td>\n      <td>Male</td>\n      <td>22</td>\n      <td>17</td>\n    </tr>\n  </tbody>\n</table>\n<p>1893 rows × 8 columns</p>\n</div>"
     },
     "metadata": {},
     "execution_count": 9
    }
   ],
   "source": [
    "# Dependencies and Setup\n",
    "import matplotlib.pyplot as plt\n",
    "import pandas as pd\n",
    "import scipy.stats as st\n",
    "import numpy as np\n",
    "# Study data files\n",
    "mouse_metadata_path = \"data/Mouse_metadata.csv\"\n",
    "study_results_path = \"data/Study_results.csv\"\n",
    "\n",
    "# Read the mouse data and the study results\n",
    "mouse_metadata = pd.read_csv(mouse_metadata_path)\n",
    "study_results = pd.read_csv(study_results_path)\n",
    "# Combine the data into a single dataset\n",
    "mouse_study_df=pd.merge(study_results,mouse_metadata,how=\"outer\",on=\"Mouse ID\")\n",
    "# Display the data table for preview\n",
    "mouse_study_df\n"
   ]
  },
  {
   "cell_type": "code",
   "execution_count": 10,
   "metadata": {},
   "outputs": [
    {
     "output_type": "stream",
     "name": "stdout",
     "text": [
      "There are 249 unique mice.\n"
     ]
    }
   ],
   "source": [
    "# Checking the number of mice.\n",
    "micenum=mouse_study_df[\"Mouse ID\"].nunique()\n",
    "print(f\"There are {micenum} unique mice.\")"
   ]
  },
  {
   "cell_type": "code",
   "execution_count": 14,
   "metadata": {},
   "outputs": [
    {
     "output_type": "execute_result",
     "data": {
      "text/plain": [
       "          Timepoint  Tumor Volume (mm3)  Metastatic Sites Drug Regimen  \\\n",
       "Mouse ID                                                                 \n",
       "a203             45           67.973419                 2    Infubinol   \n",
       "a251             45           65.525743                 1    Infubinol   \n",
       "a262             45           70.717621                 4      Placebo   \n",
       "a275             45           62.999356                 3     Ceftamin   \n",
       "a366             30           63.440686                 1     Stelasyn   \n",
       "...             ...                 ...               ...          ...   \n",
       "z435             10           48.710661                 0     Propriva   \n",
       "z578             45           45.000000                 0     Ramicane   \n",
       "z581             45           62.754451                 3    Infubinol   \n",
       "z795             45           65.741070                 3     Naftisol   \n",
       "z969             45           73.867845                 4     Naftisol   \n",
       "\n",
       "             Sex  Age_months  Weight (g)  \n",
       "Mouse ID                                  \n",
       "a203      Female          20          23  \n",
       "a251      Female          21          25  \n",
       "a262      Female          17          29  \n",
       "a275      Female          20          28  \n",
       "a366      Female          16          29  \n",
       "...          ...         ...         ...  \n",
       "z435      Female          12          26  \n",
       "z578        Male          11          16  \n",
       "z581      Female          24          25  \n",
       "z795      Female          13          29  \n",
       "z969        Male           9          30  \n",
       "\n",
       "[249 rows x 7 columns]"
      ],
      "text/html": "<div>\n<style scoped>\n    .dataframe tbody tr th:only-of-type {\n        vertical-align: middle;\n    }\n\n    .dataframe tbody tr th {\n        vertical-align: top;\n    }\n\n    .dataframe thead th {\n        text-align: right;\n    }\n</style>\n<table border=\"1\" class=\"dataframe\">\n  <thead>\n    <tr style=\"text-align: right;\">\n      <th></th>\n      <th>Timepoint</th>\n      <th>Tumor Volume (mm3)</th>\n      <th>Metastatic Sites</th>\n      <th>Drug Regimen</th>\n      <th>Sex</th>\n      <th>Age_months</th>\n      <th>Weight (g)</th>\n    </tr>\n    <tr>\n      <th>Mouse ID</th>\n      <th></th>\n      <th></th>\n      <th></th>\n      <th></th>\n      <th></th>\n      <th></th>\n      <th></th>\n    </tr>\n  </thead>\n  <tbody>\n    <tr>\n      <th>a203</th>\n      <td>45</td>\n      <td>67.973419</td>\n      <td>2</td>\n      <td>Infubinol</td>\n      <td>Female</td>\n      <td>20</td>\n      <td>23</td>\n    </tr>\n    <tr>\n      <th>a251</th>\n      <td>45</td>\n      <td>65.525743</td>\n      <td>1</td>\n      <td>Infubinol</td>\n      <td>Female</td>\n      <td>21</td>\n      <td>25</td>\n    </tr>\n    <tr>\n      <th>a262</th>\n      <td>45</td>\n      <td>70.717621</td>\n      <td>4</td>\n      <td>Placebo</td>\n      <td>Female</td>\n      <td>17</td>\n      <td>29</td>\n    </tr>\n    <tr>\n      <th>a275</th>\n      <td>45</td>\n      <td>62.999356</td>\n      <td>3</td>\n      <td>Ceftamin</td>\n      <td>Female</td>\n      <td>20</td>\n      <td>28</td>\n    </tr>\n    <tr>\n      <th>a366</th>\n      <td>30</td>\n      <td>63.440686</td>\n      <td>1</td>\n      <td>Stelasyn</td>\n      <td>Female</td>\n      <td>16</td>\n      <td>29</td>\n    </tr>\n    <tr>\n      <th>...</th>\n      <td>...</td>\n      <td>...</td>\n      <td>...</td>\n      <td>...</td>\n      <td>...</td>\n      <td>...</td>\n      <td>...</td>\n    </tr>\n    <tr>\n      <th>z435</th>\n      <td>10</td>\n      <td>48.710661</td>\n      <td>0</td>\n      <td>Propriva</td>\n      <td>Female</td>\n      <td>12</td>\n      <td>26</td>\n    </tr>\n    <tr>\n      <th>z578</th>\n      <td>45</td>\n      <td>45.000000</td>\n      <td>0</td>\n      <td>Ramicane</td>\n      <td>Male</td>\n      <td>11</td>\n      <td>16</td>\n    </tr>\n    <tr>\n      <th>z581</th>\n      <td>45</td>\n      <td>62.754451</td>\n      <td>3</td>\n      <td>Infubinol</td>\n      <td>Female</td>\n      <td>24</td>\n      <td>25</td>\n    </tr>\n    <tr>\n      <th>z795</th>\n      <td>45</td>\n      <td>65.741070</td>\n      <td>3</td>\n      <td>Naftisol</td>\n      <td>Female</td>\n      <td>13</td>\n      <td>29</td>\n    </tr>\n    <tr>\n      <th>z969</th>\n      <td>45</td>\n      <td>73.867845</td>\n      <td>4</td>\n      <td>Naftisol</td>\n      <td>Male</td>\n      <td>9</td>\n      <td>30</td>\n    </tr>\n  </tbody>\n</table>\n<p>249 rows × 7 columns</p>\n</div>"
     },
     "metadata": {},
     "execution_count": 14
    }
   ],
   "source": [
    "# Getting the duplicate mice by ID number that shows up for Mouse ID and Timepoint. \n"
   ]
  },
  {
   "cell_type": "code",
   "execution_count": 27,
   "metadata": {},
   "outputs": [
    {
     "output_type": "execute_result",
     "data": {
      "text/plain": [
       "     Mouse ID  Timepoint  Tumor Volume (mm3)  Metastatic Sites Drug Regimen  \\\n",
       "0        b128          0           45.000000                 0    Capomulin   \n",
       "1        b128          5           45.651331                 0    Capomulin   \n",
       "2        b128         10           43.270852                 0    Capomulin   \n",
       "3        b128         15           43.784893                 0    Capomulin   \n",
       "4        b128         20           42.731552                 0    Capomulin   \n",
       "...       ...        ...                 ...               ...          ...   \n",
       "1887     m601         20           34.255732                 1    Capomulin   \n",
       "1888     m601         25           33.118756                 1    Capomulin   \n",
       "1889     m601         30           31.758275                 1    Capomulin   \n",
       "1890     m601         35           30.834357                 1    Capomulin   \n",
       "1891     m601         40           31.378045                 1    Capomulin   \n",
       "\n",
       "         Sex  Age_months  Weight (g)  \n",
       "0     Female           9          22  \n",
       "1     Female           9          22  \n",
       "2     Female           9          22  \n",
       "3     Female           9          22  \n",
       "4     Female           9          22  \n",
       "...      ...         ...         ...  \n",
       "1887    Male          22          17  \n",
       "1888    Male          22          17  \n",
       "1889    Male          22          17  \n",
       "1890    Male          22          17  \n",
       "1891    Male          22          17  \n",
       "\n",
       "[1644 rows x 8 columns]"
      ],
      "text/html": "<div>\n<style scoped>\n    .dataframe tbody tr th:only-of-type {\n        vertical-align: middle;\n    }\n\n    .dataframe tbody tr th {\n        vertical-align: top;\n    }\n\n    .dataframe thead th {\n        text-align: right;\n    }\n</style>\n<table border=\"1\" class=\"dataframe\">\n  <thead>\n    <tr style=\"text-align: right;\">\n      <th></th>\n      <th>Mouse ID</th>\n      <th>Timepoint</th>\n      <th>Tumor Volume (mm3)</th>\n      <th>Metastatic Sites</th>\n      <th>Drug Regimen</th>\n      <th>Sex</th>\n      <th>Age_months</th>\n      <th>Weight (g)</th>\n    </tr>\n  </thead>\n  <tbody>\n    <tr>\n      <th>0</th>\n      <td>b128</td>\n      <td>0</td>\n      <td>45.000000</td>\n      <td>0</td>\n      <td>Capomulin</td>\n      <td>Female</td>\n      <td>9</td>\n      <td>22</td>\n    </tr>\n    <tr>\n      <th>1</th>\n      <td>b128</td>\n      <td>5</td>\n      <td>45.651331</td>\n      <td>0</td>\n      <td>Capomulin</td>\n      <td>Female</td>\n      <td>9</td>\n      <td>22</td>\n    </tr>\n    <tr>\n      <th>2</th>\n      <td>b128</td>\n      <td>10</td>\n      <td>43.270852</td>\n      <td>0</td>\n      <td>Capomulin</td>\n      <td>Female</td>\n      <td>9</td>\n      <td>22</td>\n    </tr>\n    <tr>\n      <th>3</th>\n      <td>b128</td>\n      <td>15</td>\n      <td>43.784893</td>\n      <td>0</td>\n      <td>Capomulin</td>\n      <td>Female</td>\n      <td>9</td>\n      <td>22</td>\n    </tr>\n    <tr>\n      <th>4</th>\n      <td>b128</td>\n      <td>20</td>\n      <td>42.731552</td>\n      <td>0</td>\n      <td>Capomulin</td>\n      <td>Female</td>\n      <td>9</td>\n      <td>22</td>\n    </tr>\n    <tr>\n      <th>...</th>\n      <td>...</td>\n      <td>...</td>\n      <td>...</td>\n      <td>...</td>\n      <td>...</td>\n      <td>...</td>\n      <td>...</td>\n      <td>...</td>\n    </tr>\n    <tr>\n      <th>1887</th>\n      <td>m601</td>\n      <td>20</td>\n      <td>34.255732</td>\n      <td>1</td>\n      <td>Capomulin</td>\n      <td>Male</td>\n      <td>22</td>\n      <td>17</td>\n    </tr>\n    <tr>\n      <th>1888</th>\n      <td>m601</td>\n      <td>25</td>\n      <td>33.118756</td>\n      <td>1</td>\n      <td>Capomulin</td>\n      <td>Male</td>\n      <td>22</td>\n      <td>17</td>\n    </tr>\n    <tr>\n      <th>1889</th>\n      <td>m601</td>\n      <td>30</td>\n      <td>31.758275</td>\n      <td>1</td>\n      <td>Capomulin</td>\n      <td>Male</td>\n      <td>22</td>\n      <td>17</td>\n    </tr>\n    <tr>\n      <th>1890</th>\n      <td>m601</td>\n      <td>35</td>\n      <td>30.834357</td>\n      <td>1</td>\n      <td>Capomulin</td>\n      <td>Male</td>\n      <td>22</td>\n      <td>17</td>\n    </tr>\n    <tr>\n      <th>1891</th>\n      <td>m601</td>\n      <td>40</td>\n      <td>31.378045</td>\n      <td>1</td>\n      <td>Capomulin</td>\n      <td>Male</td>\n      <td>22</td>\n      <td>17</td>\n    </tr>\n  </tbody>\n</table>\n<p>1644 rows × 8 columns</p>\n</div>"
     },
     "metadata": {},
     "execution_count": 27
    }
   ],
   "source": [
    "# Optional: Get all the data for the duplicate mouse ID. \n",
    "duplicates=mouse_study_df[mouse_study_df.duplicated(\"Mouse ID\",keep='last')]\n",
    "duplicates"
   ]
  },
  {
   "cell_type": "code",
   "execution_count": 28,
   "metadata": {},
   "outputs": [
    {
     "output_type": "execute_result",
     "data": {
      "text/plain": [
       "     Mouse ID  Timepoint  Tumor Volume (mm3)  Metastatic Sites Drug Regimen  \\\n",
       "9        b128         45           38.982878                 2    Capomulin   \n",
       "10       f932          0           45.000000                 0     Ketapril   \n",
       "18       g107         35           71.905117                 0     Ketapril   \n",
       "21       a457         10           49.783419                 0     Ketapril   \n",
       "30       c819         40           62.175705                 1     Ketapril   \n",
       "...       ...        ...                 ...               ...          ...   \n",
       "1857     t565         45           34.455298                 0    Capomulin   \n",
       "1867     i557         45           47.685963                 1    Capomulin   \n",
       "1877     m957         45           33.329098                 1    Capomulin   \n",
       "1882     f966         20           30.485985                 0    Capomulin   \n",
       "1892     m601         45           28.430964                 1    Capomulin   \n",
       "\n",
       "         Sex  Age_months  Weight (g)  \n",
       "9     Female           9          22  \n",
       "10      Male          15          29  \n",
       "18    Female           2          29  \n",
       "21    Female          11          30  \n",
       "30      Male          21          25  \n",
       "...      ...         ...         ...  \n",
       "1857  Female          20          17  \n",
       "1867  Female           1          24  \n",
       "1877  Female           3          19  \n",
       "1882    Male          16          17  \n",
       "1892    Male          22          17  \n",
       "\n",
       "[249 rows x 8 columns]"
      ],
      "text/html": "<div>\n<style scoped>\n    .dataframe tbody tr th:only-of-type {\n        vertical-align: middle;\n    }\n\n    .dataframe tbody tr th {\n        vertical-align: top;\n    }\n\n    .dataframe thead th {\n        text-align: right;\n    }\n</style>\n<table border=\"1\" class=\"dataframe\">\n  <thead>\n    <tr style=\"text-align: right;\">\n      <th></th>\n      <th>Mouse ID</th>\n      <th>Timepoint</th>\n      <th>Tumor Volume (mm3)</th>\n      <th>Metastatic Sites</th>\n      <th>Drug Regimen</th>\n      <th>Sex</th>\n      <th>Age_months</th>\n      <th>Weight (g)</th>\n    </tr>\n  </thead>\n  <tbody>\n    <tr>\n      <th>9</th>\n      <td>b128</td>\n      <td>45</td>\n      <td>38.982878</td>\n      <td>2</td>\n      <td>Capomulin</td>\n      <td>Female</td>\n      <td>9</td>\n      <td>22</td>\n    </tr>\n    <tr>\n      <th>10</th>\n      <td>f932</td>\n      <td>0</td>\n      <td>45.000000</td>\n      <td>0</td>\n      <td>Ketapril</td>\n      <td>Male</td>\n      <td>15</td>\n      <td>29</td>\n    </tr>\n    <tr>\n      <th>18</th>\n      <td>g107</td>\n      <td>35</td>\n      <td>71.905117</td>\n      <td>0</td>\n      <td>Ketapril</td>\n      <td>Female</td>\n      <td>2</td>\n      <td>29</td>\n    </tr>\n    <tr>\n      <th>21</th>\n      <td>a457</td>\n      <td>10</td>\n      <td>49.783419</td>\n      <td>0</td>\n      <td>Ketapril</td>\n      <td>Female</td>\n      <td>11</td>\n      <td>30</td>\n    </tr>\n    <tr>\n      <th>30</th>\n      <td>c819</td>\n      <td>40</td>\n      <td>62.175705</td>\n      <td>1</td>\n      <td>Ketapril</td>\n      <td>Male</td>\n      <td>21</td>\n      <td>25</td>\n    </tr>\n    <tr>\n      <th>...</th>\n      <td>...</td>\n      <td>...</td>\n      <td>...</td>\n      <td>...</td>\n      <td>...</td>\n      <td>...</td>\n      <td>...</td>\n      <td>...</td>\n    </tr>\n    <tr>\n      <th>1857</th>\n      <td>t565</td>\n      <td>45</td>\n      <td>34.455298</td>\n      <td>0</td>\n      <td>Capomulin</td>\n      <td>Female</td>\n      <td>20</td>\n      <td>17</td>\n    </tr>\n    <tr>\n      <th>1867</th>\n      <td>i557</td>\n      <td>45</td>\n      <td>47.685963</td>\n      <td>1</td>\n      <td>Capomulin</td>\n      <td>Female</td>\n      <td>1</td>\n      <td>24</td>\n    </tr>\n    <tr>\n      <th>1877</th>\n      <td>m957</td>\n      <td>45</td>\n      <td>33.329098</td>\n      <td>1</td>\n      <td>Capomulin</td>\n      <td>Female</td>\n      <td>3</td>\n      <td>19</td>\n    </tr>\n    <tr>\n      <th>1882</th>\n      <td>f966</td>\n      <td>20</td>\n      <td>30.485985</td>\n      <td>0</td>\n      <td>Capomulin</td>\n      <td>Male</td>\n      <td>16</td>\n      <td>17</td>\n    </tr>\n    <tr>\n      <th>1892</th>\n      <td>m601</td>\n      <td>45</td>\n      <td>28.430964</td>\n      <td>1</td>\n      <td>Capomulin</td>\n      <td>Male</td>\n      <td>22</td>\n      <td>17</td>\n    </tr>\n  </tbody>\n</table>\n<p>249 rows × 8 columns</p>\n</div>"
     },
     "metadata": {},
     "execution_count": 28
    }
   ],
   "source": [
    "# Create a clean DataFrame by dropping the duplicate mouse by its ID.\n",
    "# Using last keeps the last entry of the duplicates, giving the final data row of the test for that particular mouse.\n",
    "final_test_result=mouse_study_df.drop_duplicates(\"Mouse ID\",keep='last')\n",
    "final_test_result\n"
   ]
  },
  {
   "cell_type": "code",
   "execution_count": 24,
   "metadata": {},
   "outputs": [
    {
     "output_type": "stream",
     "name": "stdout",
     "text": [
      "There are 249 unique mice.\n"
     ]
    }
   ],
   "source": [
    "# Checking the number of mice in the clean DataFrame.\n",
    "micenum=final_test_result[\"Mouse ID\"].nunique()\n",
    "print(f\"There are {micenum} unique mice when duplicates are removed.\")"
   ]
  },
  {
   "cell_type": "markdown",
   "metadata": {},
   "source": [
    "## Summary Statistics"
   ]
  },
  {
   "cell_type": "code",
   "execution_count": 57,
   "metadata": {},
   "outputs": [
    {
     "output_type": "execute_result",
     "data": {
      "text/plain": [
       "             Drug Regimen  Mean Tumor Size  Median Tumor Size  \\\n",
       "Drug Regimen                                                    \n",
       "Capomulin       Capomulin        36.667568          38.125164   \n",
       "Ceftamin         Ceftamin        57.753977          59.851956   \n",
       "Infubinol       Infubinol        58.178246          60.165180   \n",
       "Ketapril         Ketapril        62.806191          64.487812   \n",
       "Naftisol         Naftisol        61.205757          63.283288   \n",
       "Placebo           Placebo        60.508414          62.030594   \n",
       "Propriva         Propriva        56.736964          55.841410   \n",
       "Ramicane         Ramicane        36.191390          36.561652   \n",
       "Stelasyn         Stelasyn        61.001707          62.192350   \n",
       "Zoniferol       Zoniferol        59.181258          61.840058   \n",
       "\n",
       "              Variance of Tumor Size  Standard Dev of Tumors  Standard Error  \n",
       "Drug Regimen                                                                  \n",
       "Capomulin                  32.663378                5.715188        1.143038  \n",
       "Ceftamin                   69.982735                8.365568        1.673114  \n",
       "Infubinol                  74.010875                8.602957        1.720591  \n",
       "Ketapril                   98.921330                9.945920        1.989184  \n",
       "Naftisol                  106.029927               10.297083        2.059417  \n",
       "Placebo                    78.759797                8.874672        1.774934  \n",
       "Propriva                   69.349002                8.327605        1.665521  \n",
       "Ramicane                   32.166354                5.671539        1.134308  \n",
       "Stelasyn                   90.331586                9.504293        1.940056  \n",
       "Zoniferol                  76.862027                8.767099        1.753420  "
      ],
      "text/html": "<div>\n<style scoped>\n    .dataframe tbody tr th:only-of-type {\n        vertical-align: middle;\n    }\n\n    .dataframe tbody tr th {\n        vertical-align: top;\n    }\n\n    .dataframe thead th {\n        text-align: right;\n    }\n</style>\n<table border=\"1\" class=\"dataframe\">\n  <thead>\n    <tr style=\"text-align: right;\">\n      <th></th>\n      <th>Drug Regimen</th>\n      <th>Mean Tumor Size</th>\n      <th>Median Tumor Size</th>\n      <th>Variance of Tumor Size</th>\n      <th>Standard Dev of Tumors</th>\n      <th>Standard Error</th>\n    </tr>\n    <tr>\n      <th>Drug Regimen</th>\n      <th></th>\n      <th></th>\n      <th></th>\n      <th></th>\n      <th></th>\n      <th></th>\n    </tr>\n  </thead>\n  <tbody>\n    <tr>\n      <th>Capomulin</th>\n      <td>Capomulin</td>\n      <td>36.667568</td>\n      <td>38.125164</td>\n      <td>32.663378</td>\n      <td>5.715188</td>\n      <td>1.143038</td>\n    </tr>\n    <tr>\n      <th>Ceftamin</th>\n      <td>Ceftamin</td>\n      <td>57.753977</td>\n      <td>59.851956</td>\n      <td>69.982735</td>\n      <td>8.365568</td>\n      <td>1.673114</td>\n    </tr>\n    <tr>\n      <th>Infubinol</th>\n      <td>Infubinol</td>\n      <td>58.178246</td>\n      <td>60.165180</td>\n      <td>74.010875</td>\n      <td>8.602957</td>\n      <td>1.720591</td>\n    </tr>\n    <tr>\n      <th>Ketapril</th>\n      <td>Ketapril</td>\n      <td>62.806191</td>\n      <td>64.487812</td>\n      <td>98.921330</td>\n      <td>9.945920</td>\n      <td>1.989184</td>\n    </tr>\n    <tr>\n      <th>Naftisol</th>\n      <td>Naftisol</td>\n      <td>61.205757</td>\n      <td>63.283288</td>\n      <td>106.029927</td>\n      <td>10.297083</td>\n      <td>2.059417</td>\n    </tr>\n    <tr>\n      <th>Placebo</th>\n      <td>Placebo</td>\n      <td>60.508414</td>\n      <td>62.030594</td>\n      <td>78.759797</td>\n      <td>8.874672</td>\n      <td>1.774934</td>\n    </tr>\n    <tr>\n      <th>Propriva</th>\n      <td>Propriva</td>\n      <td>56.736964</td>\n      <td>55.841410</td>\n      <td>69.349002</td>\n      <td>8.327605</td>\n      <td>1.665521</td>\n    </tr>\n    <tr>\n      <th>Ramicane</th>\n      <td>Ramicane</td>\n      <td>36.191390</td>\n      <td>36.561652</td>\n      <td>32.166354</td>\n      <td>5.671539</td>\n      <td>1.134308</td>\n    </tr>\n    <tr>\n      <th>Stelasyn</th>\n      <td>Stelasyn</td>\n      <td>61.001707</td>\n      <td>62.192350</td>\n      <td>90.331586</td>\n      <td>9.504293</td>\n      <td>1.940056</td>\n    </tr>\n    <tr>\n      <th>Zoniferol</th>\n      <td>Zoniferol</td>\n      <td>59.181258</td>\n      <td>61.840058</td>\n      <td>76.862027</td>\n      <td>8.767099</td>\n      <td>1.753420</td>\n    </tr>\n  </tbody>\n</table>\n</div>"
     },
     "metadata": {},
     "execution_count": 57
    }
   ],
   "source": [
    "# Generate a summary statistics table of mean, median, variance, standard deviation, and SEM of the tumor volume for each regimen\n",
    "# Use groupby and summary statistical methods to calculate the following properties of each drug regimen: \n",
    "# mean, median, variance, standard deviation, and SEM of the tumor volume. \n",
    "# Assemble the resulting series into a single summary dataframe.\n",
    "by_drug=final_test_result.groupby(\"Drug Regimen\")\n",
    "tumor_volume_mean=by_drug[\"Tumor Volume (mm3)\"].mean()\n",
    "tumor_volume_median=by_drug[\"Tumor Volume (mm3)\"].median()\n",
    "tumor_volume_var=by_drug[\"Tumor Volume (mm3)\"].var()\n",
    "tumor_volume_stdev=by_drug[\"Tumor Volume (mm3)\"].std()\n",
    "tumor_volume_sem=by_drug[\"Tumor Volume (mm3)\"].sem()\n",
    "regimen=by_drug[\"Drug Regimen\"].count().keys()\n",
    "\n",
    "Tumor_stats=pd.DataFrame({\"Drug Regimen\":regimen,\"Mean Tumor Size\":tumor_volume_mean,\"Median Tumor Size\":tumor_volume_median,\"Variance of Tumor Size\":tumor_volume_var,\"Standard Dev of Tumors\":tumor_volume_stdev,\"Standard Error\":tumor_volume_sem})\n",
    "Tumor_stats"
   ]
  },
  {
   "cell_type": "code",
   "execution_count": 61,
   "metadata": {},
   "outputs": [
    {
     "output_type": "execute_result",
     "data": {
      "text/plain": [
       "                   mean     median         var        std       sem  count\n",
       "Drug Regimen                                                              \n",
       "Capomulin     36.667568  38.125164   32.663378   5.715188  1.143038     25\n",
       "Ceftamin      57.753977  59.851956   69.982735   8.365568  1.673114     25\n",
       "Infubinol     58.178246  60.165180   74.010875   8.602957  1.720591     25\n",
       "Ketapril      62.806191  64.487812   98.921330   9.945920  1.989184     25\n",
       "Naftisol      61.205757  63.283288  106.029927  10.297083  2.059417     25\n",
       "Placebo       60.508414  62.030594   78.759797   8.874672  1.774934     25\n",
       "Propriva      56.736964  55.841410   69.349002   8.327605  1.665521     25\n",
       "Ramicane      36.191390  36.561652   32.166354   5.671539  1.134308     25\n",
       "Stelasyn      61.001707  62.192350   90.331586   9.504293  1.940056     24\n",
       "Zoniferol     59.181258  61.840058   76.862027   8.767099  1.753420     25"
      ],
      "text/html": "<div>\n<style scoped>\n    .dataframe tbody tr th:only-of-type {\n        vertical-align: middle;\n    }\n\n    .dataframe tbody tr th {\n        vertical-align: top;\n    }\n\n    .dataframe thead th {\n        text-align: right;\n    }\n</style>\n<table border=\"1\" class=\"dataframe\">\n  <thead>\n    <tr style=\"text-align: right;\">\n      <th></th>\n      <th>mean</th>\n      <th>median</th>\n      <th>var</th>\n      <th>std</th>\n      <th>sem</th>\n      <th>count</th>\n    </tr>\n    <tr>\n      <th>Drug Regimen</th>\n      <th></th>\n      <th></th>\n      <th></th>\n      <th></th>\n      <th></th>\n      <th></th>\n    </tr>\n  </thead>\n  <tbody>\n    <tr>\n      <th>Capomulin</th>\n      <td>36.667568</td>\n      <td>38.125164</td>\n      <td>32.663378</td>\n      <td>5.715188</td>\n      <td>1.143038</td>\n      <td>25</td>\n    </tr>\n    <tr>\n      <th>Ceftamin</th>\n      <td>57.753977</td>\n      <td>59.851956</td>\n      <td>69.982735</td>\n      <td>8.365568</td>\n      <td>1.673114</td>\n      <td>25</td>\n    </tr>\n    <tr>\n      <th>Infubinol</th>\n      <td>58.178246</td>\n      <td>60.165180</td>\n      <td>74.010875</td>\n      <td>8.602957</td>\n      <td>1.720591</td>\n      <td>25</td>\n    </tr>\n    <tr>\n      <th>Ketapril</th>\n      <td>62.806191</td>\n      <td>64.487812</td>\n      <td>98.921330</td>\n      <td>9.945920</td>\n      <td>1.989184</td>\n      <td>25</td>\n    </tr>\n    <tr>\n      <th>Naftisol</th>\n      <td>61.205757</td>\n      <td>63.283288</td>\n      <td>106.029927</td>\n      <td>10.297083</td>\n      <td>2.059417</td>\n      <td>25</td>\n    </tr>\n    <tr>\n      <th>Placebo</th>\n      <td>60.508414</td>\n      <td>62.030594</td>\n      <td>78.759797</td>\n      <td>8.874672</td>\n      <td>1.774934</td>\n      <td>25</td>\n    </tr>\n    <tr>\n      <th>Propriva</th>\n      <td>56.736964</td>\n      <td>55.841410</td>\n      <td>69.349002</td>\n      <td>8.327605</td>\n      <td>1.665521</td>\n      <td>25</td>\n    </tr>\n    <tr>\n      <th>Ramicane</th>\n      <td>36.191390</td>\n      <td>36.561652</td>\n      <td>32.166354</td>\n      <td>5.671539</td>\n      <td>1.134308</td>\n      <td>25</td>\n    </tr>\n    <tr>\n      <th>Stelasyn</th>\n      <td>61.001707</td>\n      <td>62.192350</td>\n      <td>90.331586</td>\n      <td>9.504293</td>\n      <td>1.940056</td>\n      <td>24</td>\n    </tr>\n    <tr>\n      <th>Zoniferol</th>\n      <td>59.181258</td>\n      <td>61.840058</td>\n      <td>76.862027</td>\n      <td>8.767099</td>\n      <td>1.753420</td>\n      <td>25</td>\n    </tr>\n  </tbody>\n</table>\n</div>"
     },
     "metadata": {},
     "execution_count": 61
    }
   ],
   "source": [
    "# Generate a summary statistics table of mean, median, variance, standard deviation, and SEM of the tumor volume for each regimen\n",
    "\n",
    "# Using the aggregation method, produce the same summary statistics in a single line\n",
    "by_drug=final_test_result.groupby(\"Drug Regimen\")\n",
    "Tumor_stats=by_drug[\"Tumor Volume (mm3)\"].agg(['mean','median','var','std','sem','count'])\n",
    "Tumor_stats"
   ]
  },
  {
   "cell_type": "markdown",
   "metadata": {},
   "source": [
    "## Bar and Pie Charts"
   ]
  },
  {
   "cell_type": "code",
   "execution_count": 74,
   "metadata": {},
   "outputs": [
    {
     "output_type": "error",
     "ename": "KeyError",
     "evalue": "'Drug Regimen'",
     "traceback": [
      "\u001b[1;31m---------------------------------------------------------------------------\u001b[0m",
      "\u001b[1;31mKeyError\u001b[0m                                  Traceback (most recent call last)",
      "\u001b[1;32m~\\anaconda3\\envs\\Pythondata\\lib\\site-packages\\pandas\\core\\indexes\\base.py\u001b[0m in \u001b[0;36mget_loc\u001b[1;34m(self, key, method, tolerance)\u001b[0m\n\u001b[0;32m   2645\u001b[0m             \u001b[1;32mtry\u001b[0m\u001b[1;33m:\u001b[0m\u001b[1;33m\u001b[0m\u001b[1;33m\u001b[0m\u001b[0m\n\u001b[1;32m-> 2646\u001b[1;33m                 \u001b[1;32mreturn\u001b[0m \u001b[0mself\u001b[0m\u001b[1;33m.\u001b[0m\u001b[0m_engine\u001b[0m\u001b[1;33m.\u001b[0m\u001b[0mget_loc\u001b[0m\u001b[1;33m(\u001b[0m\u001b[0mkey\u001b[0m\u001b[1;33m)\u001b[0m\u001b[1;33m\u001b[0m\u001b[1;33m\u001b[0m\u001b[0m\n\u001b[0m\u001b[0;32m   2647\u001b[0m             \u001b[1;32mexcept\u001b[0m \u001b[0mKeyError\u001b[0m\u001b[1;33m:\u001b[0m\u001b[1;33m\u001b[0m\u001b[1;33m\u001b[0m\u001b[0m\n",
      "\u001b[1;32mpandas\\_libs\\index.pyx\u001b[0m in \u001b[0;36mpandas._libs.index.IndexEngine.get_loc\u001b[1;34m()\u001b[0m\n",
      "\u001b[1;32mpandas\\_libs\\index.pyx\u001b[0m in \u001b[0;36mpandas._libs.index.IndexEngine.get_loc\u001b[1;34m()\u001b[0m\n",
      "\u001b[1;32mpandas\\_libs\\hashtable_class_helper.pxi\u001b[0m in \u001b[0;36mpandas._libs.hashtable.PyObjectHashTable.get_item\u001b[1;34m()\u001b[0m\n",
      "\u001b[1;32mpandas\\_libs\\hashtable_class_helper.pxi\u001b[0m in \u001b[0;36mpandas._libs.hashtable.PyObjectHashTable.get_item\u001b[1;34m()\u001b[0m\n",
      "\u001b[1;31mKeyError\u001b[0m: 'Drug Regimen'",
      "\nDuring handling of the above exception, another exception occurred:\n",
      "\u001b[1;31mKeyError\u001b[0m                                  Traceback (most recent call last)",
      "\u001b[1;32m<ipython-input-74-751ad4a0cbb9>\u001b[0m in \u001b[0;36m<module>\u001b[1;34m\u001b[0m\n\u001b[0;32m      3\u001b[0m \u001b[0mbarplot\u001b[0m\u001b[1;33m=\u001b[0m\u001b[0mbarplot\u001b[0m\u001b[1;33m.\u001b[0m\u001b[0mrename\u001b[0m\u001b[1;33m(\u001b[0m\u001b[0mcolumns\u001b[0m\u001b[1;33m=\u001b[0m\u001b[1;33m{\u001b[0m\u001b[1;34m\"Sex\"\u001b[0m\u001b[1;33m:\u001b[0m\u001b[1;34m\"Measurements\"\u001b[0m\u001b[1;33m}\u001b[0m\u001b[1;33m)\u001b[0m\u001b[1;33m\u001b[0m\u001b[1;33m\u001b[0m\u001b[0m\n\u001b[0;32m      4\u001b[0m \u001b[0mbarplot\u001b[0m\u001b[1;33m\u001b[0m\u001b[1;33m\u001b[0m\u001b[0m\n\u001b[1;32m----> 5\u001b[1;33m \u001b[0mplt\u001b[0m\u001b[1;33m.\u001b[0m\u001b[0mbar\u001b[0m\u001b[1;33m(\u001b[0m\u001b[0mbarplot\u001b[0m\u001b[1;33m[\u001b[0m\u001b[1;34m\"Drug Regimen\"\u001b[0m\u001b[1;33m]\u001b[0m\u001b[1;33m,\u001b[0m\u001b[0mbarplot\u001b[0m\u001b[1;33m[\u001b[0m\u001b[1;34m\"Measurements\"\u001b[0m\u001b[1;33m]\u001b[0m\u001b[1;33m)\u001b[0m\u001b[1;33m\u001b[0m\u001b[1;33m\u001b[0m\u001b[0m\n\u001b[0m\u001b[0;32m      6\u001b[0m \u001b[0mplt\u001b[0m\u001b[1;33m.\u001b[0m\u001b[0mshow\u001b[0m\u001b[1;33m(\u001b[0m\u001b[1;33m)\u001b[0m\u001b[1;33m\u001b[0m\u001b[1;33m\u001b[0m\u001b[0m\n",
      "\u001b[1;32m~\\anaconda3\\envs\\Pythondata\\lib\\site-packages\\pandas\\core\\frame.py\u001b[0m in \u001b[0;36m__getitem__\u001b[1;34m(self, key)\u001b[0m\n\u001b[0;32m   2798\u001b[0m             \u001b[1;32mif\u001b[0m \u001b[0mself\u001b[0m\u001b[1;33m.\u001b[0m\u001b[0mcolumns\u001b[0m\u001b[1;33m.\u001b[0m\u001b[0mnlevels\u001b[0m \u001b[1;33m>\u001b[0m \u001b[1;36m1\u001b[0m\u001b[1;33m:\u001b[0m\u001b[1;33m\u001b[0m\u001b[1;33m\u001b[0m\u001b[0m\n\u001b[0;32m   2799\u001b[0m                 \u001b[1;32mreturn\u001b[0m \u001b[0mself\u001b[0m\u001b[1;33m.\u001b[0m\u001b[0m_getitem_multilevel\u001b[0m\u001b[1;33m(\u001b[0m\u001b[0mkey\u001b[0m\u001b[1;33m)\u001b[0m\u001b[1;33m\u001b[0m\u001b[1;33m\u001b[0m\u001b[0m\n\u001b[1;32m-> 2800\u001b[1;33m             \u001b[0mindexer\u001b[0m \u001b[1;33m=\u001b[0m \u001b[0mself\u001b[0m\u001b[1;33m.\u001b[0m\u001b[0mcolumns\u001b[0m\u001b[1;33m.\u001b[0m\u001b[0mget_loc\u001b[0m\u001b[1;33m(\u001b[0m\u001b[0mkey\u001b[0m\u001b[1;33m)\u001b[0m\u001b[1;33m\u001b[0m\u001b[1;33m\u001b[0m\u001b[0m\n\u001b[0m\u001b[0;32m   2801\u001b[0m             \u001b[1;32mif\u001b[0m \u001b[0mis_integer\u001b[0m\u001b[1;33m(\u001b[0m\u001b[0mindexer\u001b[0m\u001b[1;33m)\u001b[0m\u001b[1;33m:\u001b[0m\u001b[1;33m\u001b[0m\u001b[1;33m\u001b[0m\u001b[0m\n\u001b[0;32m   2802\u001b[0m                 \u001b[0mindexer\u001b[0m \u001b[1;33m=\u001b[0m \u001b[1;33m[\u001b[0m\u001b[0mindexer\u001b[0m\u001b[1;33m]\u001b[0m\u001b[1;33m\u001b[0m\u001b[1;33m\u001b[0m\u001b[0m\n",
      "\u001b[1;32m~\\anaconda3\\envs\\Pythondata\\lib\\site-packages\\pandas\\core\\indexes\\base.py\u001b[0m in \u001b[0;36mget_loc\u001b[1;34m(self, key, method, tolerance)\u001b[0m\n\u001b[0;32m   2646\u001b[0m                 \u001b[1;32mreturn\u001b[0m \u001b[0mself\u001b[0m\u001b[1;33m.\u001b[0m\u001b[0m_engine\u001b[0m\u001b[1;33m.\u001b[0m\u001b[0mget_loc\u001b[0m\u001b[1;33m(\u001b[0m\u001b[0mkey\u001b[0m\u001b[1;33m)\u001b[0m\u001b[1;33m\u001b[0m\u001b[1;33m\u001b[0m\u001b[0m\n\u001b[0;32m   2647\u001b[0m             \u001b[1;32mexcept\u001b[0m \u001b[0mKeyError\u001b[0m\u001b[1;33m:\u001b[0m\u001b[1;33m\u001b[0m\u001b[1;33m\u001b[0m\u001b[0m\n\u001b[1;32m-> 2648\u001b[1;33m                 \u001b[1;32mreturn\u001b[0m \u001b[0mself\u001b[0m\u001b[1;33m.\u001b[0m\u001b[0m_engine\u001b[0m\u001b[1;33m.\u001b[0m\u001b[0mget_loc\u001b[0m\u001b[1;33m(\u001b[0m\u001b[0mself\u001b[0m\u001b[1;33m.\u001b[0m\u001b[0m_maybe_cast_indexer\u001b[0m\u001b[1;33m(\u001b[0m\u001b[0mkey\u001b[0m\u001b[1;33m)\u001b[0m\u001b[1;33m)\u001b[0m\u001b[1;33m\u001b[0m\u001b[1;33m\u001b[0m\u001b[0m\n\u001b[0m\u001b[0;32m   2649\u001b[0m         \u001b[0mindexer\u001b[0m \u001b[1;33m=\u001b[0m \u001b[0mself\u001b[0m\u001b[1;33m.\u001b[0m\u001b[0mget_indexer\u001b[0m\u001b[1;33m(\u001b[0m\u001b[1;33m[\u001b[0m\u001b[0mkey\u001b[0m\u001b[1;33m]\u001b[0m\u001b[1;33m,\u001b[0m \u001b[0mmethod\u001b[0m\u001b[1;33m=\u001b[0m\u001b[0mmethod\u001b[0m\u001b[1;33m,\u001b[0m \u001b[0mtolerance\u001b[0m\u001b[1;33m=\u001b[0m\u001b[0mtolerance\u001b[0m\u001b[1;33m)\u001b[0m\u001b[1;33m\u001b[0m\u001b[1;33m\u001b[0m\u001b[0m\n\u001b[0;32m   2650\u001b[0m         \u001b[1;32mif\u001b[0m \u001b[0mindexer\u001b[0m\u001b[1;33m.\u001b[0m\u001b[0mndim\u001b[0m \u001b[1;33m>\u001b[0m \u001b[1;36m1\u001b[0m \u001b[1;32mor\u001b[0m \u001b[0mindexer\u001b[0m\u001b[1;33m.\u001b[0m\u001b[0msize\u001b[0m \u001b[1;33m>\u001b[0m \u001b[1;36m1\u001b[0m\u001b[1;33m:\u001b[0m\u001b[1;33m\u001b[0m\u001b[1;33m\u001b[0m\u001b[0m\n",
      "\u001b[1;32mpandas\\_libs\\index.pyx\u001b[0m in \u001b[0;36mpandas._libs.index.IndexEngine.get_loc\u001b[1;34m()\u001b[0m\n",
      "\u001b[1;32mpandas\\_libs\\index.pyx\u001b[0m in \u001b[0;36mpandas._libs.index.IndexEngine.get_loc\u001b[1;34m()\u001b[0m\n",
      "\u001b[1;32mpandas\\_libs\\hashtable_class_helper.pxi\u001b[0m in \u001b[0;36mpandas._libs.hashtable.PyObjectHashTable.get_item\u001b[1;34m()\u001b[0m\n",
      "\u001b[1;32mpandas\\_libs\\hashtable_class_helper.pxi\u001b[0m in \u001b[0;36mpandas._libs.hashtable.PyObjectHashTable.get_item\u001b[1;34m()\u001b[0m\n",
      "\u001b[1;31mKeyError\u001b[0m: 'Drug Regimen'"
     ]
    }
   ],
   "source": [
    "# Generate a bar plot showing the total number of measurements taken on each drug regimen using pandas.\n",
    "barplot=pd.DataFrame(mouse_study_df.groupby(\"Drug Regimen\").count()[\"Sex\"])\n",
    "barplot=barplot.rename(columns={\"Sex\":\"Measurements\"})\n",
    "barplot\n",
    "plt.bar(barplot[\"Drug Regimen\"],barplot[\"Measurements\"])\n",
    "plt.show()"
   ]
  },
  {
   "cell_type": "code",
   "execution_count": 10,
   "metadata": {},
   "outputs": [],
   "source": [
    "# Generate a bar plot showing the total number of measurements taken on each drug regimen using pyplot.\n",
    "\n"
   ]
  },
  {
   "cell_type": "code",
   "execution_count": 11,
   "metadata": {},
   "outputs": [],
   "source": [
    "# Generate a pie plot showing the distribution of female versus male mice using pandas\n",
    "\n"
   ]
  },
  {
   "cell_type": "code",
   "execution_count": 12,
   "metadata": {},
   "outputs": [],
   "source": [
    "# Generate a pie plot showing the distribution of female versus male mice using pyplot\n",
    "\n"
   ]
  },
  {
   "cell_type": "markdown",
   "metadata": {},
   "source": [
    "## Quartiles, Outliers and Boxplots"
   ]
  },
  {
   "cell_type": "code",
   "execution_count": 13,
   "metadata": {},
   "outputs": [],
   "source": [
    "# Calculate the final tumor volume of each mouse across four of the treatment regimens:  \n",
    "# Capomulin, Ramicane, Infubinol, and Ceftamin\n",
    "\n",
    "# Start by getting the last (greatest) timepoint for each mouse\n",
    "\n",
    "\n",
    "# Merge this group df with the original dataframe to get the tumor volume at the last timepoint\n"
   ]
  },
  {
   "cell_type": "code",
   "execution_count": 14,
   "metadata": {},
   "outputs": [],
   "source": [
    "# Put treatments into a list for for loop (and later for plot labels)\n",
    "\n",
    "\n",
    "# Create empty list to fill with tumor vol data (for plotting)\n",
    "\n",
    "\n",
    "# Calculate the IQR and quantitatively determine if there are any potential outliers. \n",
    "\n",
    "    \n",
    "    # Locate the rows which contain mice on each drug and get the tumor volumes\n",
    "    \n",
    "    \n",
    "    # add subset \n",
    "    \n",
    "    \n",
    "    # Determine outliers using upper and lower bounds\n",
    "    "
   ]
  },
  {
   "cell_type": "code",
   "execution_count": 15,
   "metadata": {},
   "outputs": [],
   "source": [
    "# Generate a box plot of the final tumor volume of each mouse across four regimens of interest\n"
   ]
  },
  {
   "cell_type": "markdown",
   "metadata": {},
   "source": [
    "## Line and Scatter Plots"
   ]
  },
  {
   "cell_type": "code",
   "execution_count": 16,
   "metadata": {},
   "outputs": [],
   "source": [
    "# Generate a line plot of tumor volume vs. time point for a mouse treated with Capomulin\n"
   ]
  },
  {
   "cell_type": "code",
   "execution_count": 17,
   "metadata": {},
   "outputs": [],
   "source": [
    "# Generate a scatter plot of average tumor volume vs. mouse weight for the Capomulin regimen\n"
   ]
  },
  {
   "cell_type": "markdown",
   "metadata": {},
   "source": [
    "## Correlation and Regression"
   ]
  },
  {
   "cell_type": "code",
   "execution_count": 18,
   "metadata": {},
   "outputs": [],
   "source": [
    "# Calculate the correlation coefficient and linear regression model \n",
    "# for mouse weight and average tumor volume for the Capomulin regimen\n"
   ]
  },
  {
   "cell_type": "code",
   "execution_count": null,
   "metadata": {},
   "outputs": [],
   "source": []
  }
 ],
 "metadata": {
  "anaconda-cloud": {},
  "kernelspec": {
   "name": "python3610jvsc74a57bd0a20a078c923274c14ed6e434edc0f11fe13deb23044026d89ed3120eae7a3b8e",
   "display_name": "Python 3.6.10 64-bit ('PythonData': conda)"
  },
  "language_info": {
   "codemirror_mode": {
    "name": "ipython",
    "version": 3
   },
   "file_extension": ".py",
   "mimetype": "text/x-python",
   "name": "python",
   "nbconvert_exporter": "python",
   "pygments_lexer": "ipython3",
   "version": "3.6.10"
  }
 },
 "nbformat": 4,
 "nbformat_minor": 4
}